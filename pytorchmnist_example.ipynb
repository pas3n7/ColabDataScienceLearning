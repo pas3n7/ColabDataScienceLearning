{
  "nbformat": 4,
  "nbformat_minor": 0,
  "metadata": {
    "colab": {
      "name": "pytorchmnist example",
      "provenance": [],
      "collapsed_sections": [],
      "authorship_tag": "ABX9TyONgU6BArNcRH2Y1t1TDYWh",
      "include_colab_link": true
    },
    "kernelspec": {
      "name": "python3",
      "display_name": "Python 3"
    }
  },
  "cells": [
    {
      "cell_type": "markdown",
      "metadata": {
        "id": "view-in-github",
        "colab_type": "text"
      },
      "source": [
        "<a href=\"https://colab.research.google.com/github/pas3n7/ColabDataScienceLearning/blob/main/pytorchmnist_example.ipynb\" target=\"_parent\"><img src=\"https://colab.research.google.com/assets/colab-badge.svg\" alt=\"Open In Colab\"/></a>"
      ]
    },
    {
      "cell_type": "markdown",
      "metadata": {
        "id": "jmdVGxejUw4p"
      },
      "source": [
        "https://www.youtube.com/watch?v=i2yPxY2rOzs"
      ]
    },
    {
      "cell_type": "code",
      "metadata": {
        "id": "LQsTfOx-TbXT"
      },
      "source": [
        "import torch\r\n",
        "import torchvision\r\n",
        "from torchvision import transforms, datasets\r\n",
        "import matplotlib.pyplot as plt\r\n",
        "import numpy as np"
      ],
      "execution_count": 128,
      "outputs": []
    },
    {
      "cell_type": "code",
      "metadata": {
        "id": "ajLADzvpTo1q"
      },
      "source": [
        "train = datasets.MNIST(\"\", train=True, download=True,\r\n",
        "                       transform = transforms.Compose([transforms.ToTensor()]))\r\n",
        "test = datasets.MNIST(\"\", train=False, download=True,\r\n",
        "                       transform = transforms.Compose([transforms.ToTensor()]))"
      ],
      "execution_count": 129,
      "outputs": []
    },
    {
      "cell_type": "code",
      "metadata": {
        "id": "l45iu30AU2DZ"
      },
      "source": [
        "trainset = torch.utils.data.DataLoader(train, batch_size=10, shuffle=True)\r\n",
        "testset = torch.utils.data.DataLoader(test, batch_size=10, shuffle=True)"
      ],
      "execution_count": 130,
      "outputs": []
    },
    {
      "cell_type": "code",
      "metadata": {
        "id": "xewz2uOwWETm"
      },
      "source": [
        "def showgrid(atensor, gridside=4):\r\n",
        "    plt.figure(figsize=(8, 8))\r\n",
        "    plt.imshow(np.concatenate([atensor.dataset.data[i:i+gridside].view((28*gridside, 28)) for i in range(0, gridside**2, gridside)], axis=1))\r\n",
        "    plt.show()"
      ],
      "execution_count": 178,
      "outputs": []
    },
    {
      "cell_type": "code",
      "metadata": {
        "colab": {
          "base_uri": "https://localhost:8080/"
        },
        "id": "EfM0rm3lWfm0",
        "outputId": "c50f1d97-9f81-4573-fd16-8a61d95ef5e6"
      },
      "source": [
        "for data in trainset:\r\n",
        "    print(data)\r\n",
        "    break"
      ],
      "execution_count": 133,
      "outputs": [
        {
          "output_type": "stream",
          "text": [
            "[tensor([[[[0., 0., 0.,  ..., 0., 0., 0.],\n",
            "          [0., 0., 0.,  ..., 0., 0., 0.],\n",
            "          [0., 0., 0.,  ..., 0., 0., 0.],\n",
            "          ...,\n",
            "          [0., 0., 0.,  ..., 0., 0., 0.],\n",
            "          [0., 0., 0.,  ..., 0., 0., 0.],\n",
            "          [0., 0., 0.,  ..., 0., 0., 0.]]],\n",
            "\n",
            "\n",
            "        [[[0., 0., 0.,  ..., 0., 0., 0.],\n",
            "          [0., 0., 0.,  ..., 0., 0., 0.],\n",
            "          [0., 0., 0.,  ..., 0., 0., 0.],\n",
            "          ...,\n",
            "          [0., 0., 0.,  ..., 0., 0., 0.],\n",
            "          [0., 0., 0.,  ..., 0., 0., 0.],\n",
            "          [0., 0., 0.,  ..., 0., 0., 0.]]],\n",
            "\n",
            "\n",
            "        [[[0., 0., 0.,  ..., 0., 0., 0.],\n",
            "          [0., 0., 0.,  ..., 0., 0., 0.],\n",
            "          [0., 0., 0.,  ..., 0., 0., 0.],\n",
            "          ...,\n",
            "          [0., 0., 0.,  ..., 0., 0., 0.],\n",
            "          [0., 0., 0.,  ..., 0., 0., 0.],\n",
            "          [0., 0., 0.,  ..., 0., 0., 0.]]],\n",
            "\n",
            "\n",
            "        ...,\n",
            "\n",
            "\n",
            "        [[[0., 0., 0.,  ..., 0., 0., 0.],\n",
            "          [0., 0., 0.,  ..., 0., 0., 0.],\n",
            "          [0., 0., 0.,  ..., 0., 0., 0.],\n",
            "          ...,\n",
            "          [0., 0., 0.,  ..., 0., 0., 0.],\n",
            "          [0., 0., 0.,  ..., 0., 0., 0.],\n",
            "          [0., 0., 0.,  ..., 0., 0., 0.]]],\n",
            "\n",
            "\n",
            "        [[[0., 0., 0.,  ..., 0., 0., 0.],\n",
            "          [0., 0., 0.,  ..., 0., 0., 0.],\n",
            "          [0., 0., 0.,  ..., 0., 0., 0.],\n",
            "          ...,\n",
            "          [0., 0., 0.,  ..., 0., 0., 0.],\n",
            "          [0., 0., 0.,  ..., 0., 0., 0.],\n",
            "          [0., 0., 0.,  ..., 0., 0., 0.]]],\n",
            "\n",
            "\n",
            "        [[[0., 0., 0.,  ..., 0., 0., 0.],\n",
            "          [0., 0., 0.,  ..., 0., 0., 0.],\n",
            "          [0., 0., 0.,  ..., 0., 0., 0.],\n",
            "          ...,\n",
            "          [0., 0., 0.,  ..., 0., 0., 0.],\n",
            "          [0., 0., 0.,  ..., 0., 0., 0.],\n",
            "          [0., 0., 0.,  ..., 0., 0., 0.]]]]), tensor([5, 4, 1, 9, 4, 6, 9, 9, 3, 2])]\n"
          ],
          "name": "stdout"
        }
      ]
    },
    {
      "cell_type": "code",
      "metadata": {
        "colab": {
          "base_uri": "https://localhost:8080/"
        },
        "id": "4MlJ0qNxjxf-",
        "outputId": "c4381a84-d402-4d76-9895-8cfda2b2f2f2"
      },
      "source": [
        "total = 0\r\n",
        "counter_dict = {i:0 for i in range(10)}\r\n",
        "\r\n",
        "for data in trainset:\r\n",
        "    Xs, ys = data\r\n",
        "    for y in ys:\r\n",
        "        counter_dict[int(y)] += 1\r\n",
        "        total+=1\r\n",
        "\r\n",
        "for i in counter_dict:\r\n",
        "    print(f\"{i}: {counter_dict[i]/total*100:2f}\")"
      ],
      "execution_count": 174,
      "outputs": [
        {
          "output_type": "stream",
          "text": [
            "0: 9.871667\n",
            "1: 11.236667\n",
            "2: 9.930000\n",
            "3: 10.218333\n",
            "4: 9.736667\n",
            "5: 9.035000\n",
            "6: 9.863333\n",
            "7: 10.441667\n",
            "8: 9.751667\n",
            "9: 9.915000\n"
          ],
          "name": "stdout"
        }
      ]
    },
    {
      "cell_type": "code",
      "metadata": {
        "id": "WZ1yPaltmqMu"
      },
      "source": [
        "import torch.nn as nn\r\n",
        "import torch.nn.functional as F"
      ],
      "execution_count": 175,
      "outputs": []
    },
    {
      "cell_type": "code",
      "metadata": {
        "colab": {
          "base_uri": "https://localhost:8080/"
        },
        "id": "fwnWSY07s5t6",
        "outputId": "762e6910-3116-4a61-ca25-b1efe4886f4c"
      },
      "source": [
        "class Net(nn.Module):\r\n",
        "    def __init__(self):\r\n",
        "        super().__init__()\r\n",
        "        self.fc1 = nn.Linear(28*28, 64) #1st fully connected layer , images are 28x28\r\n",
        "        self.fc2 = nn.Linear(64, 64) #hidden layer\r\n",
        "        self.fc3 = nn.Linear(64, 64) #hidden layer\r\n",
        "        self.fc4 = nn.Linear(64, 10) #output layer\r\n",
        "\r\n",
        "    def forward(self, x):\r\n",
        "        #input is x\r\n",
        "        x = self.fc1(x) #x passes through fc1, we redefine x then...\r\n",
        "        x = F.relu(x) #activation function\r\n",
        "        x = self.fc2(x) #then passes through fc2\r\n",
        "        x = F.relu(x)\r\n",
        "        x = self.fc3(x) #etc\r\n",
        "        x = F.relu(x)\r\n",
        "        x = self.fc4(x) #etc, relu doesn't make sense for output\r\n",
        "        #for output we want a probability distribution, because we have multiple classes to match\r\n",
        "        return F.log_softmax(x, dim=1) #dim 1, will be flat\r\n",
        "\r\n",
        "\r\n",
        "net = Net()\r\n",
        "print(net)"
      ],
      "execution_count": 177,
      "outputs": [
        {
          "output_type": "stream",
          "text": [
            "Net(\n",
            "  (fc1): Linear(in_features=784, out_features=64, bias=True)\n",
            "  (fc2): Linear(in_features=64, out_features=64, bias=True)\n",
            "  (fc3): Linear(in_features=64, out_features=64, bias=True)\n",
            "  (fc4): Linear(in_features=64, out_features=10, bias=True)\n",
            ")\n"
          ],
          "name": "stdout"
        }
      ]
    },
    {
      "cell_type": "code",
      "metadata": {
        "id": "TtJs63gDwyf9"
      },
      "source": [
        ""
      ],
      "execution_count": null,
      "outputs": []
    }
  ]
}